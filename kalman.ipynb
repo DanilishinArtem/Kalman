{
 "cells": [
  {
   "cell_type": "code",
   "execution_count": 1,
   "metadata": {},
   "outputs": [
    {
     "name": "stderr",
     "output_type": "stream",
     "text": [
      "2024-08-30 07:58:05.632509: I tensorflow/core/platform/cpu_feature_guard.cc:210] This TensorFlow binary is optimized to use available CPU instructions in performance-critical operations.\n",
      "To enable the following instructions: AVX2 FMA, in other operations, rebuild TensorFlow with the appropriate compiler flags.\n",
      "2024-08-30 07:58:06.653123: W tensorflow/compiler/tf2tensorrt/utils/py_utils.cc:38] TF-TRT Warning: Could not find TensorRT\n"
     ]
    }
   ],
   "source": [
    "import torch\n",
    "from torch.utils.tensorboard import SummaryWriter"
   ]
  },
  {
   "cell_type": "markdown",
   "metadata": {},
   "source": [
    "# This is part of realization dynamic system"
   ]
  },
  {
   "cell_type": "code",
   "execution_count": 2,
   "metadata": {},
   "outputs": [],
   "source": [
    "def generate_parameters(x_N: int, z_N: int, T: int):\n",
    "    # parameters of the system\n",
    "    F = torch.rand(x_N, x_N) / 10\n",
    "    B = torch.rand(x_N, x_N) / 10\n",
    "    H = torch.rand(z_N, x_N) / 10\n",
    "    U = torch.rand(x_N, T)\n",
    "\n",
    "    X_t = torch.rand(x_N, T)\n",
    "    X_clear = X_t.clone()\n",
    "\n",
    "    Z_t = torch.rand(z_N, T)\n",
    "    Z_clear = Z_t.clone()\n",
    "\n",
    "    return F, B, H, U, X_t, X_clear, Z_t, Z_clear"
   ]
  },
  {
   "cell_type": "code",
   "execution_count": 3,
   "metadata": {},
   "outputs": [],
   "source": [
    "def system(F: torch.Tensor, B: torch.Tensor, H: torch.Tensor, U: torch.Tensor, X_t: torch.Tensor, X_clear: torch.Tensor, Z_t: torch.Tensor, Z_clear: torch.Tensor, x_N: int, z_N: int, T: int):\n",
    "    # result with and without noise\n",
    "    for t in range(1, T):\n",
    "        X_clear[:, t] = torch.matmul(F, X_t[:, t-1]) + torch.matmul(B, U[:, t-1])\n",
    "        X_t[:, t] =  X_clear[:, t] + torch.randn(x_N) / 10\n",
    "        Z_clear[:, t] = torch.matmul(H, X_t[:, t])\n",
    "        Z_t[:, t] = Z_clear[:, t] + torch.randn(z_N) / 10\n",
    "    return X_clear, Z_clear, X_t, Z_t"
   ]
  },
  {
   "cell_type": "code",
   "execution_count": 4,
   "metadata": {},
   "outputs": [],
   "source": [
    "writer = SummaryWriter('./logs/SourceDatas')\n",
    "\n",
    "x_N, z_N, T = 3, 2, 100\n",
    "\n",
    "F, B, H, U, X_t, X_clear, Z_t, Z_clear = generate_parameters(x_N, z_N, T)\n",
    "\n",
    "X_clear, Z_clear, X_t, Z_t = system(F, B, H, U, X_t, X_clear, Z_t, Z_clear, x_N, z_N, T)\n",
    "\n",
    "# drawing clear datas for X\n",
    "for i in range(X_clear.shape[0]):\n",
    "    for t in range(X_clear.shape[1]):\n",
    "        writer.add_scalar('Clear_X_Trajectory {}'.format(i), X_clear[i, t], t)\n",
    "\n",
    "# drawing noisy datas for X\n",
    "for i in range(X_t.shape[0]):\n",
    "    for t in range(X_t.shape[1]):\n",
    "        writer.add_scalar('Noisy_X_Trajectory {}'.format(i), X_t[i, t], t)\n",
    "\n",
    "# drawing clear datas for Z\n",
    "for i in range(Z_clear.shape[0]):\n",
    "    for t in range(Z_clear.shape[1]):\n",
    "        writer.add_scalar('Clear_Z_Trajectory {}'.format(i), Z_clear[i, t], t)\n",
    "\n",
    "# drawing noisy datas for Z\n",
    "for i in range(Z_t.shape[0]):\n",
    "    for t in range(Z_t.shape[1]):\n",
    "        writer.add_scalar('Noisy_Z_Trajectory {}'.format(i), Z_t[i, t], t)"
   ]
  },
  {
   "cell_type": "markdown",
   "metadata": {},
   "source": [
    "# This is part of realization Kalman filter"
   ]
  },
  {
   "cell_type": "code",
   "execution_count": 5,
   "metadata": {},
   "outputs": [],
   "source": [
    "class KalmanFilter:\n",
    "    def __init__(self, F: torch.Tensor, B: torch.Tensor, H: torch.Tensor, P: torch.Tensor, x_N: int, z_N: int, Q: torch.Tensor, R: torch.Tensor):\n",
    "        # dimensions        \n",
    "        self.x_N = x_N\n",
    "        self.z_N = z_N\n",
    "\n",
    "        # parameters of Prediction stage:\n",
    "        self.x = None\n",
    "        self.F = F\n",
    "        self.B = B\n",
    "        self.P = P\n",
    "        self.Q = torch.eye(self.x_N) * Q\n",
    "\n",
    "        # parameters of Update stage:\n",
    "        self.H = H\n",
    "        self.R = torch.eye(self.z_N) * R\n",
    "\n",
    "    def predict(self, x_k_1_k_1: torch.Tensor, u_k_1: torch.Tensor):\n",
    "        self.x = torch.matmul(self.F, x_k_1_k_1) + torch.matmul(self.B, u_k_1)\n",
    "        self.P = torch.matmul(torch.matmul(self.F, self.P), self.F.t()) + self.Q\n",
    "\n",
    "    def update(self, z_k: torch.Tensor):\n",
    "        S = torch.matmul(torch.matmul(self.H, self.P), self.H.t()) + self.R\n",
    "        K = torch.matmul(torch.matmul(self.P, self.H.t()), torch.inverse(S))\n",
    "        self.x = self.x + torch.matmul(K, (z_k - torch.matmul(self.H, self.x)))\n",
    "        self.P = self.P - torch.matmul(torch.matmul(K, self.H), self.P)\n",
    "        z = torch.matmul(self.H, self.x)\n",
    "        return self.x, z"
   ]
  },
  {
   "cell_type": "markdown",
   "metadata": {},
   "source": [
    "# This is part of testing Kalman Filter"
   ]
  },
  {
   "cell_type": "code",
   "execution_count": 6,
   "metadata": {},
   "outputs": [],
   "source": [
    "# Tensors of results\n",
    "x_filtered = torch.zeros(x_N, T)\n",
    "z_filtered = torch.zeros(z_N, T)\n",
    "\n",
    "x_filtered[:, 0] = X_t[:, 0]\n",
    "z_filtered[:, 0] = Z_t[:, 0]\n",
    "\n",
    "# Defining parameters P, Q, R\n",
    "P = torch.eye(x_N) * 0.1\n",
    "Q = torch.eye(x_N) * 0.1\n",
    "R = torch.eye(z_N) * 0.1\n",
    "\n",
    "kalman = KalmanFilter(F, B, H, P, x_N, z_N, Q, R)\n",
    "\n",
    "for t in range(1, T):\n",
    "    kalman.predict(X_t[:, t-1], U[:, t-1])\n",
    "    x_filtered[:, t], z_filtered[:, t] = kalman.update(Z_t[:, t])"
   ]
  },
  {
   "cell_type": "code",
   "execution_count": 7,
   "metadata": {},
   "outputs": [],
   "source": [
    "# drawing filtered datas for X and Z\n",
    "writer = SummaryWriter('./logs/KalmanFilter')\n",
    "\n",
    "# X_clear, X_t, x_filtered\n",
    "# Z_clear, Z_t, z_filtered\n",
    "for i in range(Z_clear.shape[0]):\n",
    "    for t in range(Z_clear.shape[1]):\n",
    "        writer.add_scalars('Z_Trajectory {}'.format(i), {'Clear': Z_clear[i, t], 'Noisy': Z_t[i, t], 'Filtered': z_filtered[i, t]}, t)\n",
    "\n",
    "for i in range(X_clear.shape[0]):\n",
    "    for t in range(X_clear.shape[1]):\n",
    "        writer.add_scalars('X_Trajectory {}'.format(i), {'Clear': X_clear[i, t], 'Noisy': X_t[i, t], 'Filtered': x_filtered[i, t]}, t)"
   ]
  }
 ],
 "metadata": {
  "kernelspec": {
   "display_name": "python",
   "language": "python",
   "name": "python3"
  },
  "language_info": {
   "codemirror_mode": {
    "name": "ipython",
    "version": 3
   },
   "file_extension": ".py",
   "mimetype": "text/x-python",
   "name": "python",
   "nbconvert_exporter": "python",
   "pygments_lexer": "ipython3",
   "version": "3.12.3"
  }
 },
 "nbformat": 4,
 "nbformat_minor": 2
}
