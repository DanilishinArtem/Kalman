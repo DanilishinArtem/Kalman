{
 "cells": [
  {
   "cell_type": "code",
   "execution_count": 36,
   "metadata": {},
   "outputs": [],
   "source": [
    "import torch\n",
    "from torch.utils.tensorboard import SummaryWriter\n",
    "writer = SummaryWriter('./logs')"
   ]
  },
  {
   "cell_type": "code",
   "execution_count": 53,
   "metadata": {},
   "outputs": [],
   "source": [
    "def system(x_N: int, z_N: int, T: int):\n",
    "    # parameters:\n",
    "    F = torch.rand(x_N, x_N) / 10\n",
    "    B = torch.rand(x_N, x_N) / 10\n",
    "    H = torch.rand(z_N, x_N) / 10\n",
    "    U = torch.rand(x_N, T)\n",
    "\n",
    "    X_t = torch.rand(x_N, T)\n",
    "    X_clear = torch.rand(x_N, T)\n",
    "\n",
    "    Z_t = torch.rand(z_N, T)\n",
    "    Z_clear = torch.rand(z_N, T)\n",
    "    # result with and without noise\n",
    "    for t in range(1, T):\n",
    "        X_clear[:, t] = torch.matmul(F, X_t[:, t-1]) + torch.matmul(B, U[:, t-1])\n",
    "        X_t[:, t] =  X_clear[:, t] + torch.randn(x_N) / 10\n",
    "        Z_clear[:, t] = torch.matmul(H, X_t[:, t])\n",
    "        Z_t[:, t] = Z_clear[:, t] + torch.randn(z_N) / 10\n",
    "    return X_clear, Z_clear, X_t, Z_t\n"
   ]
  },
  {
   "cell_type": "code",
   "execution_count": 54,
   "metadata": {},
   "outputs": [],
   "source": [
    "X_clear, Z_clear, X_t, Z_t = system(3, 2, 100)\n",
    "# drawing clear datas for X\n",
    "for i in range(X_clear.shape[0]):\n",
    "    for t in range(X_clear.shape[1]):\n",
    "        writer.add_scalar('Clear_X_Trajectory {}'.format(i), X_clear[i, t], t)\n",
    "\n",
    "# drawing noisy datas for X\n",
    "for i in range(X_t.shape[0]):\n",
    "    for t in range(X_t.shape[1]):\n",
    "        writer.add_scalar('Noisy_X_Trajectory {}'.format(i), X_t[i, t], t)\n",
    "\n",
    "# drawing clear datas for Z\n",
    "for i in range(Z_clear.shape[0]):\n",
    "    for t in range(Z_clear.shape[1]):\n",
    "        writer.add_scalar('Clear_Z_Trajectory {}'.format(i), X_clear[i, t], t)\n",
    "\n",
    "# drawing noisy datas for Z\n",
    "for i in range(X_clear.shape[0]):\n",
    "    for t in range(X_clear.shape[1]):\n",
    "        writer.add_scalar('Noisy_Z_Trajectory {}'.format(i), X_clear[i, t], t)\n",
    "\n",
    "\n",
    "\n",
    "\n"
   ]
  },
  {
   "cell_type": "code",
   "execution_count": null,
   "metadata": {},
   "outputs": [],
   "source": [
    "# other part of code is dedicated to Kalman filter"
   ]
  },
  {
   "cell_type": "code",
   "execution_count": null,
   "metadata": {},
   "outputs": [],
   "source": []
  }
 ],
 "metadata": {
  "kernelspec": {
   "display_name": "python",
   "language": "python",
   "name": "python3"
  },
  "language_info": {
   "codemirror_mode": {
    "name": "ipython",
    "version": 3
   },
   "file_extension": ".py",
   "mimetype": "text/x-python",
   "name": "python",
   "nbconvert_exporter": "python",
   "pygments_lexer": "ipython3",
   "version": "3.12.3"
  }
 },
 "nbformat": 4,
 "nbformat_minor": 2
}
