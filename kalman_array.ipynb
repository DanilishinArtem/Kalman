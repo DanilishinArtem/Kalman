{
 "cells": [
  {
   "cell_type": "code",
   "execution_count": 21,
   "metadata": {},
   "outputs": [],
   "source": [
    "import torch\n",
    "from torch.utils.tensorboard import SummaryWriter\n",
    "# from array import array, tensor_to_array\n",
    "from array_ import array, tensor_to_array"
   ]
  },
  {
   "cell_type": "markdown",
   "metadata": {},
   "source": [
    "# This is part of realization dynamic system"
   ]
  },
  {
   "cell_type": "code",
   "execution_count": 22,
   "metadata": {},
   "outputs": [],
   "source": [
    "def generate_parameters(x_N: int, z_N: int, T: int):\n",
    "    # parameters of the system\n",
    "    F = torch.rand(x_N, x_N) / 10\n",
    "    B = torch.rand(x_N, x_N) / 10\n",
    "    H = torch.rand(z_N, x_N) / 10\n",
    "    U = torch.rand(x_N, T)\n",
    "\n",
    "    X_t = torch.rand(x_N, T)\n",
    "    X_clear = X_t.clone()\n",
    "\n",
    "    Z_t = torch.rand(z_N, T)\n",
    "    Z_clear = Z_t.clone()\n",
    "\n",
    "    return F, B, H, U, X_t, X_clear, Z_t, Z_clear"
   ]
  },
  {
   "cell_type": "code",
   "execution_count": 23,
   "metadata": {},
   "outputs": [],
   "source": [
    "def system(F: torch.Tensor, B: torch.Tensor, H: torch.Tensor, U: torch.Tensor, X_t: torch.Tensor, X_clear: torch.Tensor, Z_t: torch.Tensor, Z_clear: torch.Tensor, x_N: int, z_N: int, T: int):\n",
    "    # result with and without noise\n",
    "    for t in range(1, T):\n",
    "        X_clear[:, t] = torch.matmul(F, X_t[:, t-1]) + torch.matmul(B, U[:, t-1])\n",
    "        X_t[:, t] =  X_clear[:, t] + torch.randn(x_N) / 10\n",
    "        Z_clear[:, t] = torch.matmul(H, X_t[:, t])\n",
    "        Z_t[:, t] = Z_clear[:, t] + torch.randn(z_N) / 10\n",
    "    return X_clear, Z_clear, X_t, Z_t"
   ]
  },
  {
   "cell_type": "code",
   "execution_count": 24,
   "metadata": {},
   "outputs": [],
   "source": [
    "writer = SummaryWriter('./logs/SourceDatas')\n",
    "\n",
    "x_N, z_N, T = 3, 2, 100\n",
    "\n",
    "F, B, H, U, X_t, X_clear, Z_t, Z_clear = generate_parameters(x_N, z_N, T)\n",
    "\n",
    "X_clear, Z_clear, X_t, Z_t = system(F, B, H, U, X_t, X_clear, Z_t, Z_clear, x_N, z_N, T)\n",
    "\n",
    "# drawing clear datas for X\n",
    "for i in range(X_clear.shape[0]):\n",
    "    for t in range(X_clear.shape[1]):\n",
    "        writer.add_scalar('Clear_X_Trajectory {}'.format(i), X_clear[i, t], t)\n",
    "\n",
    "# drawing noisy datas for X\n",
    "for i in range(X_t.shape[0]):\n",
    "    for t in range(X_t.shape[1]):\n",
    "        writer.add_scalar('Noisy_X_Trajectory {}'.format(i), X_t[i, t], t)\n",
    "\n",
    "# drawing clear datas for Z\n",
    "for i in range(Z_clear.shape[0]):\n",
    "    for t in range(Z_clear.shape[1]):\n",
    "        writer.add_scalar('Clear_Z_Trajectory {}'.format(i), Z_clear[i, t], t)\n",
    "\n",
    "# drawing noisy datas for Z\n",
    "for i in range(Z_t.shape[0]):\n",
    "    for t in range(Z_t.shape[1]):\n",
    "        writer.add_scalar('Noisy_Z_Trajectory {}'.format(i), Z_t[i, t], t)"
   ]
  },
  {
   "cell_type": "markdown",
   "metadata": {},
   "source": [
    "# This is part of realization Kalman filter"
   ]
  },
  {
   "cell_type": "code",
   "execution_count": 25,
   "metadata": {},
   "outputs": [],
   "source": [
    "class KalmanFilter:\n",
    "    def __init__(self, F: array, B: array, H: array, P: array, x_N: int, z_N: int, Q: array, R: array):\n",
    "        # dimensions        \n",
    "        self.x_N = x_N\n",
    "        self.z_N = z_N\n",
    "\n",
    "        # parameters of Prediction stage:\n",
    "        self.x = None\n",
    "        self.F = F\n",
    "        self.B = B\n",
    "        self.P = P\n",
    "        self.Q = array.eye(self.x_N) * Q\n",
    "\n",
    "        # parameters of Update stage:\n",
    "        self.H = H\n",
    "        self.R = array.eye(self.z_N) * R\n",
    "\n",
    "    def _predict(self, x_k_1_k_1: array, u_k_1: torch):\n",
    "        self.x = array.__matmul__(self.F, x_k_1_k_1.transpose()) + array.__matmul__(self.B, u_k_1.transpose())\n",
    "        self.P = array.__matmul__(array.__matmul__(self.F, self.P), self.F.transpose()) + self.Q\n",
    "\n",
    "    def _update(self, z_k: torch.Tensor):\n",
    "        S = array.__matmul__(array.__matmul__(self.H, self.P), self.H.transpose()) + self.R\n",
    "        K = array.__matmul__(array.__matmul__(self.P, self.H.transpose()), array.inverse(S))\n",
    "        self.x = self.x + array.__matmul__(K, (z_k.transpose() + array.__matmul__(self.H, self.x) * (-1)))\n",
    "        self.P = self.P + array.__matmul__(array.__matmul__(K, self.H), self.P) * (-1)\n",
    "        z = array.__matmul__(self.H, self.x)\n",
    "        return self.x, z\n",
    "    \n",
    "    def filter(self, x_k_1_k_1: array, u_k_1: array, z_k: array):\n",
    "        self._predict(x_k_1_k_1, u_k_1)\n",
    "        return self._update(z_k)"
   ]
  },
  {
   "cell_type": "markdown",
   "metadata": {},
   "source": [
    "# This is part of testing Kalman Filter"
   ]
  },
  {
   "cell_type": "code",
   "execution_count": 26,
   "metadata": {},
   "outputs": [
    {
     "ename": "TypeError",
     "evalue": "can't assign a array to a torch.FloatTensor",
     "output_type": "error",
     "traceback": [
      "\u001b[0;31m---------------------------------------------------------------------------\u001b[0m",
      "\u001b[0;31mTypeError\u001b[0m                                 Traceback (most recent call last)",
      "Cell \u001b[0;32mIn[26], line 25\u001b[0m\n\u001b[1;32m     22\u001b[0m kalman \u001b[38;5;241m=\u001b[39m KalmanFilter(F_, B_, H_, P_, x_N, z_N, Q_, R_)\n\u001b[1;32m     24\u001b[0m \u001b[38;5;28;01mfor\u001b[39;00m t \u001b[38;5;129;01min\u001b[39;00m \u001b[38;5;28mrange\u001b[39m(\u001b[38;5;241m1\u001b[39m, T):\n\u001b[0;32m---> 25\u001b[0m     \u001b[43mx_filtered\u001b[49m\u001b[43m[\u001b[49m\u001b[43m:\u001b[49m\u001b[43m,\u001b[49m\u001b[43m \u001b[49m\u001b[43mt\u001b[49m\u001b[43m]\u001b[49m, z_filtered[:, t] \u001b[38;5;241m=\u001b[39m kalman\u001b[38;5;241m.\u001b[39mfilter(tensor_to_array(x_filtered[:, t\u001b[38;5;241m-\u001b[39m\u001b[38;5;241m1\u001b[39m]), tensor_to_array(U[:, t\u001b[38;5;241m-\u001b[39m\u001b[38;5;241m1\u001b[39m]), tensor_to_array(Z_t[:, t]))\n",
      "\u001b[0;31mTypeError\u001b[0m: can't assign a array to a torch.FloatTensor"
     ]
    }
   ],
   "source": [
    "# Tensors of results\n",
    "x_filtered = torch.zeros(x_N, T)\n",
    "z_filtered = torch.zeros(z_N, T)\n",
    "\n",
    "x_filtered[:, 0] = X_t[:, 0]\n",
    "z_filtered[:, 0] = Z_t[:, 0]\n",
    "\n",
    "# Defining parameters P, Q, R\n",
    "P = torch.eye(x_N) * 0.1\n",
    "Q = torch.eye(x_N) * 0.1\n",
    "R = torch.eye(z_N) * 0.1\n",
    "\n",
    "\n",
    "\n",
    "F_ = tensor_to_array(F)\n",
    "B_ = tensor_to_array(B)\n",
    "H_ = tensor_to_array(H)\n",
    "P_ = tensor_to_array(P)\n",
    "Q_ = tensor_to_array(Q)\n",
    "R_ = tensor_to_array(R)\n",
    "\n",
    "kalman = KalmanFilter(F_, B_, H_, P_, x_N, z_N, Q_, R_)\n",
    "\n",
    "for t in range(1, T):\n",
    "    x_filtered[:, t], z_filtered[:, t] = kalman.filter(tensor_to_array(x_filtered[:, t-1]), tensor_to_array(U[:, t-1]), tensor_to_array(Z_t[:, t]))"
   ]
  },
  {
   "cell_type": "code",
   "execution_count": null,
   "metadata": {},
   "outputs": [],
   "source": [
    "# drawing filtered datas for X and Z\n",
    "writer = SummaryWriter('./logs/KalmanFilter')\n",
    "\n",
    "# X_clear, X_t, x_filtered\n",
    "# Z_clear, Z_t, z_filtered\n",
    "for i in range(Z_clear.shape[0]):\n",
    "    for t in range(Z_clear.shape[1]):\n",
    "        writer.add_scalars('Z_Trajectory {}'.format(i), {'Clear': Z_clear[i, t], 'Noisy': Z_t[i, t], 'Filtered': z_filtered[i, t]}, t)\n",
    "\n",
    "for i in range(X_clear.shape[0]):\n",
    "    for t in range(X_clear.shape[1]):\n",
    "        writer.add_scalars('X_Trajectory {}'.format(i), {'Clear': X_clear[i, t], 'Noisy': X_t[i, t], 'Filtered': x_filtered[i, t]}, t)"
   ]
  }
 ],
 "metadata": {
  "kernelspec": {
   "display_name": "python",
   "language": "python",
   "name": "python3"
  },
  "language_info": {
   "codemirror_mode": {
    "name": "ipython",
    "version": 3
   },
   "file_extension": ".py",
   "mimetype": "text/x-python",
   "name": "python",
   "nbconvert_exporter": "python",
   "pygments_lexer": "ipython3",
   "version": "3.12.3"
  }
 },
 "nbformat": 4,
 "nbformat_minor": 2
}
