{
 "cells": [
  {
   "cell_type": "code",
   "execution_count": 61,
   "metadata": {},
   "outputs": [],
   "source": [
    "class array:\n",
    "    def __init__(self, *args):\n",
    "        self.values = list(args)\n",
    "\n",
    "    def __getitem__(self, index):\n",
    "        return self.values[index]\n",
    "\n",
    "    def __setitem__(self, index, value):\n",
    "        self.values[index] = value\n",
    "\n",
    "    def __len__(self):\n",
    "        return len(self.values)\n",
    "    \n",
    "    def __repr__(self):\n",
    "        return str(self.values)\n",
    "    \n",
    "    def __str__(self):\n",
    "        return str(self.values)\n",
    "    \n",
    "    def __add__(self, other):\n",
    "        if isinstance(other, array):\n",
    "            if len(self.values) != len(other.values):\n",
    "                raise ValueError(\"Vectors must be the same length for element-wise multiplication.\")\n",
    "            # return array([a + b for a, b in zip(self.values, other.values)]).values\n",
    "            return array(*[self[i] + other[i] for i in range(len(self.values))])\n",
    "        else:\n",
    "            return array(*[a + other for a in self.values])\n",
    "        \n",
    "    def __radd__(self, other):\n",
    "        return self + other\n",
    "    \n",
    "    def __mul__(self, other):\n",
    "        if isinstance(other, array):\n",
    "            if len(self.values) != len(other.values):\n",
    "                raise ValueError(\"Vectors must be the same length for element-wise multiplication.\")\n",
    "            return array(*[a * b for a, b in zip(self.values, other.values)])\n",
    "        else:\n",
    "            return array(*[a * other for a in self.values])\n",
    "        \n",
    "    def __rmul__(self, other):\n",
    "        return self * other\n",
    "    \n",
    "    def __matmul__(self, other):\n",
    "        if isinstance(other, array):\n",
    "            if len(self.values) != len(other.values):\n",
    "                raise ValueError(\"Vectors must be the same length for dot product.\")\n",
    "            return sum(a * b for a, b in zip(self.values, other.values))\n",
    "        else:\n",
    "            raise ValueError(\"Operand must be a Vector.\")\n",
    "    \n",
    "    def __sub__(self, other):\n",
    "        return self + (other * (-1))\n",
    "    \n",
    "    def __rsub__(self, other):\n",
    "        return other + (self * (-1))\n",
    "\n",
    "    def len(self):\n",
    "        return self.__len__()"
   ]
  },
  {
   "cell_type": "code",
   "execution_count": 64,
   "metadata": {},
   "outputs": [
    {
     "name": "stdout",
     "output_type": "stream",
     "text": [
      "30\n"
     ]
    }
   ],
   "source": [
    "x = array(1, 2, 3, 4)\n",
    "y = array(1, 2, 3, 4)\n",
    "z = array(x, y)\n",
    "\n",
    "print(x @ y)"
   ]
  }
 ],
 "metadata": {
  "kernelspec": {
   "display_name": "python",
   "language": "python",
   "name": "python3"
  },
  "language_info": {
   "codemirror_mode": {
    "name": "ipython",
    "version": 3
   },
   "file_extension": ".py",
   "mimetype": "text/x-python",
   "name": "python",
   "nbconvert_exporter": "python",
   "pygments_lexer": "ipython3",
   "version": "3.12.3"
  }
 },
 "nbformat": 4,
 "nbformat_minor": 2
}
