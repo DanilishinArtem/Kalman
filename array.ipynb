{
 "cells": [
  {
   "cell_type": "code",
   "execution_count": 4,
   "metadata": {},
   "outputs": [],
   "source": [
    "class array:\n",
    "    def __init__(self, *args):\n",
    "        self.values = list(args)\n",
    "\n",
    "    def __getitem__(self, index):\n",
    "        return self.values[index]\n",
    "\n",
    "    def __setitem__(self, index, value):\n",
    "        self.values[index] = value\n",
    "\n",
    "    def __len__(self):\n",
    "        return len(self.values)\n",
    "    \n",
    "    def __repr__(self):\n",
    "        return str(self.values)\n",
    "    \n",
    "    def __str__(self):\n",
    "        return str(self.values)\n",
    "    \n",
    "    def __add__(self, other):\n",
    "        if isinstance(other, array):\n",
    "            if len(self.values) != len(other.values):\n",
    "                raise ValueError(\"Vectors must be the same length for element-wise multiplication.\")\n",
    "            # return array([a + b for a, b in zip(self.values, other.values)]).values\n",
    "            return array(*[self[i] + other[i] for i in range(len(self.values))])\n",
    "        else:\n",
    "            return array(*[a + other for a in self.values])\n",
    "        \n",
    "    def __radd__(self, other):\n",
    "        return self + other\n",
    "    \n",
    "    def __mul__(self, other):\n",
    "        if isinstance(other, array):\n",
    "            if len(self.values) != len(other.values):\n",
    "                raise ValueError(\"Vectors must be the same length for element-wise multiplication.\")\n",
    "            return array(*[a * b for a, b in zip(self.values, other.values)])\n",
    "        else:\n",
    "            return array(*[a * other for a in self.values])\n",
    "        \n",
    "    def __rmul__(self, other):\n",
    "        return self * other\n",
    "    \n",
    "    def __matmul__(self, other):\n",
    "        if isinstance(other, array):\n",
    "            if len(self.values) != len(other.values):\n",
    "                raise ValueError(\"Vectors must be the same length for dot product.\")\n",
    "            return sum(a * b for a, b in zip(self.values, other.values))\n",
    "        else:\n",
    "            raise ValueError(\"Operand must be a Vector.\")\n",
    "    \n",
    "    def __sub__(self, other):\n",
    "        return self + (other * (-1))\n",
    "    \n",
    "    def __rsub__(self, other):\n",
    "        return other + (self * (-1))\n",
    "\n",
    "    def len(self):\n",
    "        return self.__len__()"
   ]
  },
  {
   "cell_type": "code",
   "execution_count": 3,
   "metadata": {},
   "outputs": [
    {
     "ename": "TypeError",
     "evalue": "array.__init__() takes 2 positional arguments but 5 were given",
     "output_type": "error",
     "traceback": [
      "\u001b[0;31m---------------------------------------------------------------------------\u001b[0m",
      "\u001b[0;31mTypeError\u001b[0m                                 Traceback (most recent call last)",
      "Cell \u001b[0;32mIn[3], line 1\u001b[0m\n\u001b[0;32m----> 1\u001b[0m x \u001b[38;5;241m=\u001b[39m \u001b[43marray\u001b[49m\u001b[43m(\u001b[49m\u001b[38;5;241;43m1\u001b[39;49m\u001b[43m,\u001b[49m\u001b[43m \u001b[49m\u001b[38;5;241;43m2\u001b[39;49m\u001b[43m,\u001b[49m\u001b[43m \u001b[49m\u001b[38;5;241;43m3\u001b[39;49m\u001b[43m,\u001b[49m\u001b[43m \u001b[49m\u001b[38;5;241;43m4\u001b[39;49m\u001b[43m)\u001b[49m\n\u001b[1;32m      2\u001b[0m y \u001b[38;5;241m=\u001b[39m array(\u001b[38;5;241m1\u001b[39m, \u001b[38;5;241m2\u001b[39m, \u001b[38;5;241m3\u001b[39m, \u001b[38;5;241m4\u001b[39m)\n\u001b[1;32m      3\u001b[0m z \u001b[38;5;241m=\u001b[39m array(x, y)\n",
      "\u001b[0;31mTypeError\u001b[0m: array.__init__() takes 2 positional arguments but 5 were given"
     ]
    }
   ],
   "source": [
    "x = array(1, 2, 3, 4)\n",
    "y = array(1, 2, 3, 4)\n",
    "z = array(x, y)\n",
    "\n",
    "print(x @ y)"
   ]
  }
 ],
 "metadata": {
  "kernelspec": {
   "display_name": "python",
   "language": "python",
   "name": "python3"
  },
  "language_info": {
   "codemirror_mode": {
    "name": "ipython",
    "version": 3
   },
   "file_extension": ".py",
   "mimetype": "text/x-python",
   "name": "python",
   "nbconvert_exporter": "python",
   "pygments_lexer": "ipython3",
   "version": "3.12.3"
  }
 },
 "nbformat": 4,
 "nbformat_minor": 2
}
