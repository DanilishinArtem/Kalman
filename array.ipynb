{
 "cells": [
  {
   "cell_type": "markdown",
   "metadata": {},
   "source": [
    "# Basic code of array class"
   ]
  },
  {
   "cell_type": "code",
   "execution_count": 21,
   "metadata": {},
   "outputs": [],
   "source": [
    "class array:\n",
    "    def __init__(self, *args):\n",
    "        self.values = list(args)\n",
    "\n",
    "    def __getitem__(self, index):\n",
    "        return self.values[index]\n",
    "\n",
    "    def __setitem__(self, index, value):\n",
    "        self.values[index] = value\n",
    "\n",
    "    def __len__(self):\n",
    "        return len(self.values)\n",
    "    \n",
    "    def __repr__(self):\n",
    "        return str(self.values)\n",
    "    \n",
    "    def __str__(self):\n",
    "        return str(self.values)\n",
    "    \n",
    "    def __add__(self, other):\n",
    "        if isinstance(other, array):\n",
    "            if len(self.values) != len(other.values):\n",
    "                raise ValueError(\"Vectors must be the same length for element-wise multiplication.\")\n",
    "            # return array([a + b for a, b in zip(self.values, other.values)]).values\n",
    "            return array(*[self[i] + other[i] for i in range(len(self.values))])\n",
    "        else:\n",
    "            return array(*[a + other for a in self.values])\n",
    "        \n",
    "    def __radd__(self, other):\n",
    "        return self + other\n",
    "    \n",
    "    def __mul__(self, other):\n",
    "        if isinstance(other, array):\n",
    "            if len(self.values) != len(other.values):\n",
    "                raise ValueError(\"Vectors must be the same length for element-wise multiplication.\")\n",
    "            return array(*[a * b for a, b in zip(self.values, other.values)])\n",
    "        else:\n",
    "            return array(*[a * other for a in self.values])\n",
    "        \n",
    "    def __rmul__(self, other):\n",
    "        return self * other\n",
    "    \n",
    "    def __matmul__(self, other):\n",
    "        if len(self.shape()) == 1 and len(other.shape()) == 1:\n",
    "            if len(self.values) != len(other.values):\n",
    "                raise ValueError(\"Vectors must be the same length for dot product.\")\n",
    "            return sum(a * b for a, b in zip(self.values, other.values))\n",
    "        \n",
    "        elif (len(self.shape()) == 1 and len(other.shape()) > 1) or (len(self.shape()) > 1 and len(other.shape()) == 1):\n",
    "            if len(self.shape()) == 1 and len(other.shape()) > 1:\n",
    "                if len(self.values) != other.shape()[0]:\n",
    "                    raise ValueError(\"Vector and Matrix shapes are not compatible for dot product.\")\n",
    "                return array(*[other[i] @ self for i in range(len(self.values))])\n",
    "            elif len(self.shape()) > 1 and len(other.shape()) == 1:\n",
    "                if len(other.values) != self.shape()[0]:\n",
    "                    raise ValueError(\"Vector and Matrix shapes are not compatible for dot product.\")\n",
    "                return array(*[self[i] @ other for i in range(len(other.values))])\n",
    "\n",
    "        elif len(self.shape()) > 1 and len(other.shape()) > 1:\n",
    "            if self.shape()[1] != other.shape()[0]:\n",
    "                raise ValueError(\"Wrong matrices dimentions\")\n",
    "            result = x = array(*[[0] * other.shape()[1]] * self.shape()[0])\n",
    "            for i in range(self.shape()[0]):\n",
    "                for j in range(other.shape()[0]):\n",
    "                    result[i][j] = self[i] @ other[j]\n",
    "            return result\n",
    "\n",
    "        else:\n",
    "            raise ValueError(\"Operand must be a Vector or Matrix.\")\n",
    "    \n",
    "    def __sub__(self, other):\n",
    "        return self + (other * (-1))\n",
    "    \n",
    "    def __rsub__(self, other):\n",
    "        return other + (self * (-1))\n",
    "\n",
    "    def len(self):\n",
    "        return self.__len__()\n",
    "    \n",
    "    def shape(self):\n",
    "        shape_ = []\n",
    "        temp = self\n",
    "        while type(temp) != int and type(temp) != float:\n",
    "            shape_.append(len(temp))\n",
    "            temp = temp[0]\n",
    "        return shape_"
   ]
  },
  {
   "cell_type": "markdown",
   "metadata": {},
   "source": [
    "# Testing math operations with vactors"
   ]
  },
  {
   "cell_type": "code",
   "execution_count": 18,
   "metadata": {},
   "outputs": [
    {
     "name": "stdout",
     "output_type": "stream",
     "text": [
      "x = [1, 2, 3, 4], y = [1, 2, 3, 4]\n",
      "x + y = [2, 4, 6, 8]\n",
      "x - y = [0, 0, 0, 0]\n",
      "x * 2 = [2, 4, 6, 8]\n",
      "2 * x = [2, 4, 6, 8]\n",
      "x * y = [1, 4, 9, 16]\n",
      "x @ y = 30\n",
      "y @ x = 30\n"
     ]
    }
   ],
   "source": [
    "x = array(1, 2, 3, 4)\n",
    "y = array(1, 2, 3, 4)\n",
    "print('x = {}, y = {}'.format(x, y))\n",
    "print('x + y = {}'.format(x + y))\n",
    "print('x - y = {}'.format(x - y))\n",
    "print('x * 2 = {}'.format(x * 2))\n",
    "print('2 * x = {}'.format(2 * x))\n",
    "print('x * y = {}'.format(x * y))\n",
    "print('x @ y = {}'.format(x @ y))\n",
    "print('y @ x = {}'.format(y @ x))"
   ]
  },
  {
   "cell_type": "markdown",
   "metadata": {},
   "source": [
    "# Testing matrix - vector operations"
   ]
  },
  {
   "cell_type": "code",
   "execution_count": 23,
   "metadata": {},
   "outputs": [
    {
     "name": "stdout",
     "output_type": "stream",
     "text": [
      "x = [1, 1, 1, 1], y = [[1, 1, 1, 1], [1, 1, 1, 1], [1, 1, 1, 1], [1, 1, 1, 1]]\n",
      "shape x = [4]\n",
      "shape y = [4, 4]\n",
      "a = [[1, 2], [3, 4]], b = [[6, 2], [7, 3]]\n"
     ]
    },
    {
     "ename": "KeyboardInterrupt",
     "evalue": "",
     "output_type": "error",
     "traceback": [
      "\u001b[0;31m---------------------------------------------------------------------------\u001b[0m",
      "\u001b[0;31mKeyboardInterrupt\u001b[0m                         Traceback (most recent call last)",
      "Cell \u001b[0;32mIn[23], line 11\u001b[0m\n\u001b[1;32m      8\u001b[0m \u001b[38;5;28mprint\u001b[39m(\u001b[38;5;124m'\u001b[39m\u001b[38;5;124mshape y = \u001b[39m\u001b[38;5;132;01m{}\u001b[39;00m\u001b[38;5;124m'\u001b[39m\u001b[38;5;241m.\u001b[39mformat(y\u001b[38;5;241m.\u001b[39mshape()))\n\u001b[1;32m     10\u001b[0m \u001b[38;5;28mprint\u001b[39m(\u001b[38;5;124m'\u001b[39m\u001b[38;5;124ma = \u001b[39m\u001b[38;5;132;01m{}\u001b[39;00m\u001b[38;5;124m, b = \u001b[39m\u001b[38;5;132;01m{}\u001b[39;00m\u001b[38;5;124m'\u001b[39m\u001b[38;5;241m.\u001b[39mformat(a,b))\n\u001b[0;32m---> 11\u001b[0m \u001b[38;5;28mprint\u001b[39m(\u001b[38;5;124m'\u001b[39m\u001b[38;5;124ma @ b = \u001b[39m\u001b[38;5;132;01m{}\u001b[39;00m\u001b[38;5;124m'\u001b[39m\u001b[38;5;241m.\u001b[39mformat(\u001b[43ma\u001b[49m\u001b[43m \u001b[49m\u001b[38;5;241;43m@\u001b[39;49m\u001b[43m \u001b[49m\u001b[43mb\u001b[49m))\n\u001b[1;32m     13\u001b[0m \u001b[38;5;66;03m# print('y @ x = {}'.format(y @ x))\u001b[39;00m\n\u001b[1;32m     14\u001b[0m \u001b[38;5;66;03m# print('y @ y = {}'.format(y @ y))\u001b[39;00m\n",
      "Cell \u001b[0;32mIn[21], line 65\u001b[0m, in \u001b[0;36marray.__matmul__\u001b[0;34m(self, other)\u001b[0m\n\u001b[1;32m     63\u001b[0m     \u001b[38;5;28;01mfor\u001b[39;00m i \u001b[38;5;129;01min\u001b[39;00m \u001b[38;5;28mrange\u001b[39m(\u001b[38;5;28mself\u001b[39m\u001b[38;5;241m.\u001b[39mshape()[\u001b[38;5;241m0\u001b[39m]):\n\u001b[1;32m     64\u001b[0m         \u001b[38;5;28;01mfor\u001b[39;00m j \u001b[38;5;129;01min\u001b[39;00m \u001b[38;5;28mrange\u001b[39m(other\u001b[38;5;241m.\u001b[39mshape()[\u001b[38;5;241m0\u001b[39m]):\n\u001b[0;32m---> 65\u001b[0m             result[i][j] \u001b[38;5;241m=\u001b[39m \u001b[38;5;28;43mself\u001b[39;49m[i] \u001b[38;5;241m@\u001b[39m other[j]\n\u001b[1;32m     66\u001b[0m     \u001b[38;5;28;01mreturn\u001b[39;00m result\n\u001b[1;32m     68\u001b[0m \u001b[38;5;28;01melse\u001b[39;00m:\n",
      "Cell \u001b[0;32mIn[21], line 65\u001b[0m, in \u001b[0;36marray.__matmul__\u001b[0;34m(self, other)\u001b[0m\n\u001b[1;32m     63\u001b[0m     \u001b[38;5;28;01mfor\u001b[39;00m i \u001b[38;5;129;01min\u001b[39;00m \u001b[38;5;28mrange\u001b[39m(\u001b[38;5;28mself\u001b[39m\u001b[38;5;241m.\u001b[39mshape()[\u001b[38;5;241m0\u001b[39m]):\n\u001b[1;32m     64\u001b[0m         \u001b[38;5;28;01mfor\u001b[39;00m j \u001b[38;5;129;01min\u001b[39;00m \u001b[38;5;28mrange\u001b[39m(other\u001b[38;5;241m.\u001b[39mshape()[\u001b[38;5;241m0\u001b[39m]):\n\u001b[0;32m---> 65\u001b[0m             result[i][j] \u001b[38;5;241m=\u001b[39m \u001b[38;5;28;43mself\u001b[39;49m[i] \u001b[38;5;241m@\u001b[39m other[j]\n\u001b[1;32m     66\u001b[0m     \u001b[38;5;28;01mreturn\u001b[39;00m result\n\u001b[1;32m     68\u001b[0m \u001b[38;5;28;01melse\u001b[39;00m:\n",
      "File \u001b[0;32m_pydevd_bundle/pydevd_cython.pyx:1457\u001b[0m, in \u001b[0;36m_pydevd_bundle.pydevd_cython.SafeCallWrapper.__call__\u001b[0;34m()\u001b[0m\n",
      "File \u001b[0;32m_pydevd_bundle/pydevd_cython.pyx:701\u001b[0m, in \u001b[0;36m_pydevd_bundle.pydevd_cython.PyDBFrame.trace_dispatch\u001b[0;34m()\u001b[0m\n",
      "File \u001b[0;32m_pydevd_bundle/pydevd_cython.pyx:1395\u001b[0m, in \u001b[0;36m_pydevd_bundle.pydevd_cython.PyDBFrame.trace_dispatch\u001b[0;34m()\u001b[0m\n",
      "File \u001b[0;32m_pydevd_bundle/pydevd_cython.pyx:1344\u001b[0m, in \u001b[0;36m_pydevd_bundle.pydevd_cython.PyDBFrame.trace_dispatch\u001b[0;34m()\u001b[0m\n",
      "File \u001b[0;32m_pydevd_bundle/pydevd_cython.pyx:312\u001b[0m, in \u001b[0;36m_pydevd_bundle.pydevd_cython.PyDBFrame.do_wait_suspend\u001b[0;34m()\u001b[0m\n",
      "File \u001b[0;32m~/.local/lib/python3.10/site-packages/debugpy/_vendored/pydevd/pydevd.py:2070\u001b[0m, in \u001b[0;36mPyDB.do_wait_suspend\u001b[0;34m(self, thread, frame, event, arg, exception_type)\u001b[0m\n\u001b[1;32m   2067\u001b[0m             from_this_thread\u001b[38;5;241m.\u001b[39mappend(frame_custom_thread_id)\n\u001b[1;32m   2069\u001b[0m     \u001b[38;5;28;01mwith\u001b[39;00m \u001b[38;5;28mself\u001b[39m\u001b[38;5;241m.\u001b[39m_threads_suspended_single_notification\u001b[38;5;241m.\u001b[39mnotify_thread_suspended(thread_id, thread, stop_reason):\n\u001b[0;32m-> 2070\u001b[0m         keep_suspended \u001b[38;5;241m=\u001b[39m \u001b[38;5;28;43mself\u001b[39;49m\u001b[38;5;241;43m.\u001b[39;49m\u001b[43m_do_wait_suspend\u001b[49m\u001b[43m(\u001b[49m\u001b[43mthread\u001b[49m\u001b[43m,\u001b[49m\u001b[43m \u001b[49m\u001b[43mframe\u001b[49m\u001b[43m,\u001b[49m\u001b[43m \u001b[49m\u001b[43mevent\u001b[49m\u001b[43m,\u001b[49m\u001b[43m \u001b[49m\u001b[43marg\u001b[49m\u001b[43m,\u001b[49m\u001b[43m \u001b[49m\u001b[43msuspend_type\u001b[49m\u001b[43m,\u001b[49m\u001b[43m \u001b[49m\u001b[43mfrom_this_thread\u001b[49m\u001b[43m,\u001b[49m\u001b[43m \u001b[49m\u001b[43mframes_tracker\u001b[49m\u001b[43m)\u001b[49m\n\u001b[1;32m   2072\u001b[0m frames_list \u001b[38;5;241m=\u001b[39m \u001b[38;5;28;01mNone\u001b[39;00m\n\u001b[1;32m   2074\u001b[0m \u001b[38;5;28;01mif\u001b[39;00m keep_suspended:\n\u001b[1;32m   2075\u001b[0m     \u001b[38;5;66;03m# This means that we should pause again after a set next statement.\u001b[39;00m\n",
      "File \u001b[0;32m~/.local/lib/python3.10/site-packages/debugpy/_vendored/pydevd/pydevd.py:2106\u001b[0m, in \u001b[0;36mPyDB._do_wait_suspend\u001b[0;34m(self, thread, frame, event, arg, suspend_type, from_this_thread, frames_tracker)\u001b[0m\n\u001b[1;32m   2103\u001b[0m         \u001b[38;5;28mself\u001b[39m\u001b[38;5;241m.\u001b[39m_call_input_hook()\n\u001b[1;32m   2105\u001b[0m     \u001b[38;5;28mself\u001b[39m\u001b[38;5;241m.\u001b[39mprocess_internal_commands()\n\u001b[0;32m-> 2106\u001b[0m     \u001b[43mtime\u001b[49m\u001b[38;5;241;43m.\u001b[39;49m\u001b[43msleep\u001b[49m\u001b[43m(\u001b[49m\u001b[38;5;241;43m0.01\u001b[39;49m\u001b[43m)\u001b[49m\n\u001b[1;32m   2108\u001b[0m \u001b[38;5;28mself\u001b[39m\u001b[38;5;241m.\u001b[39mcancel_async_evaluation(get_current_thread_id(thread), \u001b[38;5;28mstr\u001b[39m(\u001b[38;5;28mid\u001b[39m(frame)))\n\u001b[1;32m   2110\u001b[0m \u001b[38;5;66;03m# process any stepping instructions\u001b[39;00m\n",
      "\u001b[0;31mKeyboardInterrupt\u001b[0m: "
     ]
    }
   ],
   "source": [
    "x = array(1, 1, 1, 1)\n",
    "y = array(array(1, 1, 1, 1), array(1, 1, 1, 1), array(1, 1, 1, 1), array(1, 1, 1, 1))\n",
    "\n",
    "a = array(array(1,2),array(3,4))\n",
    "b = array(array(6,2),array(7,3))\n",
    "print('x = {}, y = {}'.format(x, y))\n",
    "print('shape x = {}'.format(x.shape()))\n",
    "print('shape y = {}'.format(y.shape()))\n",
    "\n",
    "print('a = {}, b = {}'.format(a,b))\n",
    "print('a @ b = {}'.format(a @ b))\n",
    "\n",
    "# print('y @ x = {}'.format(y @ x))\n",
    "# print('y @ y = {}'.format(y @ y))"
   ]
  },
  {
   "cell_type": "markdown",
   "metadata": {},
   "source": [
    "# Testing matrix - matrix operations"
   ]
  },
  {
   "cell_type": "code",
   "execution_count": 7,
   "metadata": {},
   "outputs": [
    {
     "data": {
      "text/plain": [
       "[[0, 0, 0], [0, 0, 0], [0, 0, 0], [0, 0, 0], [0, 0, 0], [0, 0, 0], [0, 0, 0], [0, 0, 0], [0, 0, 0], [0, 0, 0]]"
      ]
     },
     "execution_count": 7,
     "metadata": {},
     "output_type": "execute_result"
    }
   ],
   "source": [
    "x = array(*[[0] * 3] * 10)\n",
    "x"
   ]
  }
 ],
 "metadata": {
  "kernelspec": {
   "display_name": "python",
   "language": "python",
   "name": "python3"
  },
  "language_info": {
   "codemirror_mode": {
    "name": "ipython",
    "version": 3
   },
   "file_extension": ".py",
   "mimetype": "text/x-python",
   "name": "python",
   "nbconvert_exporter": "python",
   "pygments_lexer": "ipython3",
   "version": "3.10.12"
  }
 },
 "nbformat": 4,
 "nbformat_minor": 2
}
